{
 "cells": [
  {
   "cell_type": "markdown",
   "metadata": {},
   "source": [
    "session 1\n",
    "1401/05/23\n",
    "Variables"
   ]
  },
  {
   "cell_type": "code",
   "execution_count": 3,
   "metadata": {},
   "outputs": [
    {
     "name": "stdout",
     "output_type": "stream",
     "text": [
      "3\n"
     ]
    }
   ],
   "source": [
    "a = 4\n",
    "b = 2.0\n",
    "c = 'e'\n",
    "s = 'Hello world'\n",
    "#i = input()\n",
    "a1 = input()\n",
    "a2 = input()\n",
    "b1 = int(a1)\n",
    "b2 = int(a2)\n",
    "print(b1 + b2)"
   ]
  },
  {
   "cell_type": "markdown",
   "metadata": {},
   "source": [
    "+\n",
    "-\n",
    "*\n",
    "/\n",
    "//\n",
    "**\n",
    "%\n",
    "\n",
    "(12 + ((10 * 4) / 3) - (9 ** 5))\n"
   ]
  },
  {
   "cell_type": "code",
   "execution_count": 5,
   "metadata": {},
   "outputs": [
    {
     "name": "stdout",
     "output_type": "stream",
     "text": [
      "Hello World\n"
     ]
    }
   ],
   "source": [
    "s = \"Hello\" \n",
    "f = \" World\"\n",
    "print(s + f)"
   ]
  },
  {
   "cell_type": "code",
   "execution_count": 7,
   "metadata": {},
   "outputs": [
    {
     "name": "stdout",
     "output_type": "stream",
     "text": [
      "0.10000000000000009\n"
     ]
    }
   ],
   "source": [
    "n = 2.1\n",
    "print(n - int(n))\n",
    "#-----------------\n"
   ]
  },
  {
   "cell_type": "code",
   "execution_count": 9,
   "metadata": {},
   "outputs": [
    {
     "name": "stdout",
     "output_type": "stream",
     "text": [
      "14\n"
     ]
    }
   ],
   "source": [
    "#3m\n",
    "#43m\n",
    "f1 = 3\n",
    "f2 = 43\n",
    "print(f2 // f1)\n"
   ]
  },
  {
   "cell_type": "code",
   "execution_count": 11,
   "metadata": {},
   "outputs": [
    {
     "name": "stdout",
     "output_type": "stream",
     "text": [
      "Odd\n"
     ]
    }
   ],
   "source": [
    "#Even / Odd\n",
    "a = int(input(\"Enter some number: \"))\n",
    "if (a % 2 == 0):\n",
    "    print(\"Even\")\n",
    "    # a>b a<b a==b\n",
    "else: \n",
    "    print(\"Odd\")"
   ]
  },
  {
   "cell_type": "code",
   "execution_count": 14,
   "metadata": {},
   "outputs": [
    {
     "name": "stdout",
     "output_type": "stream",
     "text": [
      "adad vared shode zoj nist.\n"
     ]
    }
   ],
   "source": [
    "a = int(input())\n",
    "if a % 4 == 0:\n",
    "    print(\"adad vared shode bar 4 bakhshpazir ast.\")\n",
    "elif a % 2 == 0:\n",
    "    print(\"adad vared shode bar 2 bakhshpazir ast.\")\n",
    "else:\n",
    "    print(\"adad vared shode zoj nist.\")"
   ]
  },
  {
   "cell_type": "markdown",
   "metadata": {},
   "source": [
    "a = n + 3\n",
    "n = a - 3\n",
    "n % 4\n"
   ]
  },
  {
   "cell_type": "code",
   "execution_count": null,
   "metadata": {},
   "outputs": [],
   "source": [
    "if (a-3) % 4"
   ]
  }
 ],
 "metadata": {
  "kernelspec": {
   "display_name": "Python 3.10.5 64-bit",
   "language": "python",
   "name": "python3"
  },
  "language_info": {
   "codemirror_mode": {
    "name": "ipython",
    "version": 3
   },
   "file_extension": ".py",
   "mimetype": "text/x-python",
   "name": "python",
   "nbconvert_exporter": "python",
   "pygments_lexer": "ipython3",
   "version": "3.10.5"
  },
  "orig_nbformat": 4,
  "vscode": {
   "interpreter": {
    "hash": "e7370f93d1d0cde622a1f8e1c04877d8463912d04d973331ad4851f04de6915a"
   }
  }
 },
 "nbformat": 4,
 "nbformat_minor": 2
}
