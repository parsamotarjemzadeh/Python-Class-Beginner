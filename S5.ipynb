{
 "cells": [
  {
   "cell_type": "markdown",
   "metadata": {},
   "source": [
    "**session 5**  \n",
    "*1401/06/22*  \n",
    "*-- for / while*"
   ]
  },
  {
   "cell_type": "code",
   "execution_count": 1,
   "metadata": {},
   "outputs": [
    {
     "name": "stdout",
     "output_type": "stream",
     "text": [
      "8\n"
     ]
    }
   ],
   "source": [
    "sum = 0\n",
    "while 1:\n",
    "    a = int(input())\n",
    "    if a == -1: break\n",
    "    sum += a\n",
    "print(sum)"
   ]
  },
  {
   "cell_type": "code",
   "execution_count": 2,
   "metadata": {},
   "outputs": [
    {
     "name": "stdout",
     "output_type": "stream",
     "text": [
      "[1, 2, 3, 4]\n"
     ]
    }
   ],
   "source": [
    "ls = []\n",
    "while 1:\n",
    "    a = int(input())\n",
    "    if a == -1: break\n",
    "    ls.append(a)\n",
    "ls.sort()\n",
    "print(ls)"
   ]
  },
  {
   "cell_type": "code",
   "execution_count": 6,
   "metadata": {},
   "outputs": [
    {
     "name": "stdout",
     "output_type": "stream",
     "text": [
      "2\n",
      "6\n"
     ]
    }
   ],
   "source": [
    "def f(x):\n",
    "    x *= 2\n",
    "    print(x)\n",
    "\n",
    "'''x = 1\n",
    "x *= 2\n",
    "print(x)\n",
    "x = 3\n",
    "x *= 2\n",
    "print(x)'''\n",
    "\n",
    "f(1)\n",
    "f(3)\n",
    "\n"
   ]
  },
  {
   "cell_type": "code",
   "execution_count": 8,
   "metadata": {},
   "outputs": [
    {
     "name": "stdout",
     "output_type": "stream",
     "text": [
      "Hello Parsa\n"
     ]
    }
   ],
   "source": [
    "#f(\"Parsa\")\n",
    "#--> Hello Parsa\n",
    "\n",
    "def sf(x):\n",
    "    print(\"Hello \" + x)\n",
    "\n",
    "sf(\"Parsa\")"
   ]
  }
 ],
 "metadata": {
  "kernelspec": {
   "display_name": "Python 3.10.5 64-bit",
   "language": "python",
   "name": "python3"
  },
  "language_info": {
   "codemirror_mode": {
    "name": "ipython",
    "version": 3
   },
   "file_extension": ".py",
   "mimetype": "text/x-python",
   "name": "python",
   "nbconvert_exporter": "python",
   "pygments_lexer": "ipython3",
   "version": "3.10.5"
  },
  "orig_nbformat": 4,
  "vscode": {
   "interpreter": {
    "hash": "e7370f93d1d0cde622a1f8e1c04877d8463912d04d973331ad4851f04de6915a"
   }
  }
 },
 "nbformat": 4,
 "nbformat_minor": 2
}
